{
 "cells": [
  {
   "cell_type": "code",
   "execution_count": 1,
   "metadata": {},
   "outputs": [],
   "source": [
    "from aicsimageio import AICSImage\n",
    "import cv2 as cv\n",
    "from matplotlib import pyplot as plt\n",
    "\n",
    "from conversions import conversions"
   ]
  },
  {
   "cell_type": "markdown",
   "metadata": {},
   "source": [
    "# Bead Alignment Notebook\n",
    " \n",
    "__How to Use:__\n",
    " \n",
    "__Setup:__\n",
    "1. Copy the Base Image path into the variable `base_image_path`\n",
    "2. Copy the unaligned newly taken image path into the variable `unaligned_new_image_path`\n",
    "3. Choose a scene to look at and copy it into the variable `scene`, This step is optional. If no scene is chosen than AICSImage I0 defaults to the first scene\n",
    " \n",
    "__To Run:__ Simply run all cells after you have entered the above information. The last cell will print out the shift between the new Images. This coordinate shift [x,y] can be entered into the GUI in order to adjust the camera.\n",
    " \n",
    "look at the output image at the bottom of this notebook. The Image consists of the two different rounds set side by side. on the left side of the image you will see the newly acquired image with a section selected from the center (250 pixel padding). This section is used as a template to search the original image. The right hand side of the output image is the original image with the best matched section that looks like the template.\n",
    " \n",
    "To check that this code ran successfully look at the two side by side images (stitched together and at the bottom of this notebook) if the borders of the drawn rectangles appear to be proportional distances from key features (Beads) then the alignment has been successful.\n",
    "\n",
    "\n",
    "\n"
   ]
  },
  {
   "cell_type": "markdown",
   "metadata": {},
   "source": [
    "### Fields to Edit\n",
    "note: path formatting may change with different systems. Enter whatever path formatting you normally use for your system.\n",
    "\n",
    "EX. <br>\n",
    "\n",
    "    Linux: '/allen/aics/microscopy.... ' <br>\n",
    "    Windows: r'\\\\allen\\aics\\microscopy...' <br>\n",
    "    Mac: '/allen/aics/microscopy.... ' <br>"
   ]
  },
  {
   "cell_type": "code",
   "execution_count": 2,
   "metadata": {},
   "outputs": [],
   "source": [
    "base_image_path = r'\\\\allen\\aics\\microscopy\\Data\\RnD_Sandbox\\Alignment Test 20220913\\20220913_20X_round0.czi'\n",
    "unaligned_new_image_path = r'\\\\allen\\aics\\microscopy\\Dat\\RnD_Sandbox\\Alignment Test 20220913\\20220913_20X_round1_unaligned.czi'\n",
    "scene = '' # Example 'P1-B2'"
   ]
  },
  {
   "cell_type": "markdown",
   "metadata": {},
   "source": [
    "### Function - (No Editing Required)"
   ]
  },
  {
   "cell_type": "code",
   "execution_count": 3,
   "metadata": {},
   "outputs": [],
   "source": [
    "def get_shift(raw_image_path_one, raw_image_path_two, scene = '', eval_method = 'cv.TM_CCOEFF_NORMED', objective = '20X'):\n",
    "    \n",
    "    # Read in Images as AICSImage\n",
    "    img1 = AICSImage(raw_image_path_one)\n",
    "    img2 = AICSImage(raw_image_path_two)\n",
    "    \n",
    "    # set micron conversion rate for given objective\n",
    "    micron_conversion_const = conversions.MICRON_CONVERSION[objective]\n",
    "\n",
    "    # AICS Image defaults to the first scene\n",
    "    if scene != '':\n",
    "        img1.set_scene(scene)\n",
    "        img2.set_scene(scene)\n",
    "    \n",
    "    # Building images from AICSImage, C and Z can be varied if image is not accurate  \n",
    "    temp_image_1 = img1.get_image_data(\"XY\", C=0, Z=0, S=0, T=0)\n",
    "    temp_image_2 = img2.get_image_data(\"XY\", C=0, Z=0, S=0, T=0)\n",
    "    \n",
    "    \n",
    "    # Image Formatting\n",
    "    temp_image_1  = cv.normalize(temp_image_1 , None, 0, 255, cv.NORM_MINMAX).astype(\"uint8\")\n",
    "    temp_image_2 = cv.normalize(temp_image_2, None, 0, 255, cv.NORM_MINMAX).astype(\"uint8\")\n",
    "    img1_rectangle = temp_image_1.copy()\n",
    "    img2_rectangle = temp_image_2.copy()\n",
    "    \n",
    "    \n",
    "    # Creating a padded template (Padding 250 Pixels)\n",
    "    template = temp_image_2[250:-250, 250:-250]\n",
    "    w, h = template.shape[::-1]\n",
    "    \n",
    "    #Evaluate matches\n",
    "    method = eval(eval_method)\n",
    "    res = cv.matchTemplate(temp_image_1,template,method)\n",
    "    min_val, max_val, min_loc, max_loc = cv.minMaxLoc(res)\n",
    "\n",
    "    # If the method is TM_SQDIFF or TM_SQDIFF_NORMED, take minimum\n",
    "    if method in [cv.TM_SQDIFF, cv.TM_SQDIFF_NORMED]:\n",
    "        top_left = min_loc\n",
    "    else:\n",
    "        top_left = max_loc\n",
    "\n",
    "    # Determining shift  \n",
    "    bottom_right = (top_left[0] + w, top_left[1] + h)\n",
    "    shift = [top_left[0] - 250, top_left[1] - 250]\n",
    "\n",
    "    # Empty drawing params for the opencv drawMatches function \n",
    "    draw_params = dict(matchColor = (255,0,0),\n",
    "            singlePointColor = None,\n",
    "            matchesMask = [], \n",
    "            flags = 2)\n",
    "\n",
    "    # Drawing Rectangles for visual confirmation \n",
    "    img1_rectangle = cv.rectangle(img1_rectangle, top_left, bottom_right, 255, 2)\n",
    "    img2_rectangle = cv.rectangle(img2_rectangle,[250,250], [img2_rectangle.shape[1] - 250, img2_rectangle.shape[0] - 250], 255, 2)\n",
    "\n",
    "    # Joining into one image \n",
    "    img3 = cv.drawMatches(img2_rectangle,[],img1_rectangle,[],[],None, **draw_params)\n",
    "\n",
    "    plt.imshow(img3, \"gray\", aspect=1)\n",
    "    #plt.set_title(\"Scene: \"+ scene + \"  Shift: \" + str(shift))\n",
    "\n",
    "    # adjust for rotation by AicsImage and microm conversion\n",
    "    adjusted_shift = (\n",
    "        int(micron_conversion_const * -shift[1]),\n",
    "        int(micron_conversion_const * shift[0]),\n",
    "    )\n",
    "\n",
    "    return adjusted_shift"
   ]
  },
  {
   "cell_type": "code",
   "execution_count": 4,
   "metadata": {},
   "outputs": [
    {
     "ename": "FileNotFoundError",
     "evalue": "file:///allen/aics/microscopy/brian_whitney/repos/aics_bead_alignment_core/aics_bead_alignment_core/\\\\allen\\aics\\microscopy\\Data\\RnD_Sandbox\\Alignment Test 20220913\\20220913_20X_round0.czi",
     "output_type": "error",
     "traceback": [
      "\u001b[0;31m---------------------------------------------------------------------------\u001b[0m",
      "\u001b[0;31mFileNotFoundError\u001b[0m                         Traceback (most recent call last)",
      "Cell \u001b[0;32mIn[4], line 1\u001b[0m\n\u001b[0;32m----> 1\u001b[0m \u001b[39mprint\u001b[39m(\u001b[39m\"\u001b[39m\u001b[39mShift: \u001b[39m\u001b[39m\"\u001b[39m \u001b[39m+\u001b[39m \u001b[39mstr\u001b[39m(get_shift(base_image_path,unaligned_new_image_path, scene)))\n",
      "Cell \u001b[0;32mIn[3], line 4\u001b[0m, in \u001b[0;36mget_shift\u001b[0;34m(raw_image_path_one, raw_image_path_two, scene, eval_method, objective)\u001b[0m\n\u001b[1;32m      1\u001b[0m \u001b[39mdef\u001b[39;00m \u001b[39mget_shift\u001b[39m(raw_image_path_one, raw_image_path_two, scene \u001b[39m=\u001b[39m \u001b[39m'\u001b[39m\u001b[39m'\u001b[39m, eval_method \u001b[39m=\u001b[39m \u001b[39m'\u001b[39m\u001b[39mcv.TM_CCOEFF_NORMED\u001b[39m\u001b[39m'\u001b[39m, objective \u001b[39m=\u001b[39m \u001b[39m'\u001b[39m\u001b[39m20X\u001b[39m\u001b[39m'\u001b[39m):\n\u001b[1;32m      2\u001b[0m     \n\u001b[1;32m      3\u001b[0m     \u001b[39m# Read in Images as AICSImage\u001b[39;00m\n\u001b[0;32m----> 4\u001b[0m     img1 \u001b[39m=\u001b[39m AICSImage(raw_image_path_one)\n\u001b[1;32m      5\u001b[0m     img2 \u001b[39m=\u001b[39m AICSImage(raw_image_path_two)\n\u001b[1;32m      7\u001b[0m     \u001b[39m# set micron conversion rate for given objective\u001b[39;00m\n",
      "File \u001b[0;32m/allen/aics/microscopy/brian_whitney/repos/celigo-pipeline-core/venv/lib/python3.9/site-packages/aicsimageio/aics_image.py:264\u001b[0m, in \u001b[0;36mAICSImage.__init__\u001b[0;34m(self, image, reader, reconstruct_mosaic, fs_kwargs, **kwargs)\u001b[0m\n\u001b[1;32m    254\u001b[0m \u001b[39mdef\u001b[39;00m \u001b[39m__init__\u001b[39m(\n\u001b[1;32m    255\u001b[0m     \u001b[39mself\u001b[39m,\n\u001b[1;32m    256\u001b[0m     image: types\u001b[39m.\u001b[39mImageLike,\n\u001b[0;32m   (...)\u001b[0m\n\u001b[1;32m    260\u001b[0m     \u001b[39m*\u001b[39m\u001b[39m*\u001b[39mkwargs: Any,\n\u001b[1;32m    261\u001b[0m ):\n\u001b[1;32m    262\u001b[0m     \u001b[39mif\u001b[39;00m reader \u001b[39mis\u001b[39;00m \u001b[39mNone\u001b[39;00m:\n\u001b[1;32m    263\u001b[0m         \u001b[39m# Determine reader class and create dask delayed array\u001b[39;00m\n\u001b[0;32m--> 264\u001b[0m         ReaderClass \u001b[39m=\u001b[39m \u001b[39mself\u001b[39;49m\u001b[39m.\u001b[39;49mdetermine_reader(image, fs_kwargs\u001b[39m=\u001b[39;49mfs_kwargs, \u001b[39m*\u001b[39;49m\u001b[39m*\u001b[39;49mkwargs)\n\u001b[1;32m    265\u001b[0m     \u001b[39melse\u001b[39;00m:\n\u001b[1;32m    266\u001b[0m         \u001b[39m# Init reader\u001b[39;00m\n\u001b[1;32m    267\u001b[0m         ReaderClass \u001b[39m=\u001b[39m reader\n",
      "File \u001b[0;32m/allen/aics/microscopy/brian_whitney/repos/celigo-pipeline-core/venv/lib/python3.9/site-packages/aicsimageio/aics_image.py:176\u001b[0m, in \u001b[0;36mAICSImage.determine_reader\u001b[0;34m(image, fs_kwargs, **kwargs)\u001b[0m\n\u001b[1;32m    174\u001b[0m \u001b[39m# Try reader detection based off of file path extension\u001b[39;00m\n\u001b[1;32m    175\u001b[0m \u001b[39mif\u001b[39;00m \u001b[39misinstance\u001b[39m(image, (\u001b[39mstr\u001b[39m, Path)):\n\u001b[0;32m--> 176\u001b[0m     _, path \u001b[39m=\u001b[39m pathlike_to_fs(image, enforce_exists\u001b[39m=\u001b[39;49m\u001b[39mTrue\u001b[39;49;00m, fs_kwargs\u001b[39m=\u001b[39;49mfs_kwargs)\n\u001b[1;32m    178\u001b[0m     \u001b[39m# Check for extension in FORMAT_IMPLEMENTATIONS\u001b[39;00m\n\u001b[1;32m    179\u001b[0m     \u001b[39mfor\u001b[39;00m format_ext, readers \u001b[39min\u001b[39;00m FORMAT_IMPLEMENTATIONS\u001b[39m.\u001b[39mitems():\n",
      "File \u001b[0;32m/allen/aics/microscopy/brian_whitney/repos/celigo-pipeline-core/venv/lib/python3.9/site-packages/aicsimageio/utils/io_utils.py:56\u001b[0m, in \u001b[0;36mpathlike_to_fs\u001b[0;34m(uri, enforce_exists, fs_kwargs)\u001b[0m\n\u001b[1;32m     54\u001b[0m \u001b[39mif\u001b[39;00m enforce_exists:\n\u001b[1;32m     55\u001b[0m     \u001b[39mif\u001b[39;00m \u001b[39mnot\u001b[39;00m fs\u001b[39m.\u001b[39mexists(path):\n\u001b[0;32m---> 56\u001b[0m         \u001b[39mraise\u001b[39;00m \u001b[39mFileNotFoundError\u001b[39;00m(\u001b[39mf\u001b[39m\u001b[39m\"\u001b[39m\u001b[39m{\u001b[39;00mfs\u001b[39m.\u001b[39mprotocol\u001b[39m}\u001b[39;00m\u001b[39m://\u001b[39m\u001b[39m{\u001b[39;00mpath\u001b[39m}\u001b[39;00m\u001b[39m\"\u001b[39m)\n\u001b[1;32m     58\u001b[0m \u001b[39m# Get and store details\u001b[39;00m\n\u001b[1;32m     59\u001b[0m \u001b[39m# We do not return an AbstractBufferedFile (i.e. fs.open) as we do not want to have\u001b[39;00m\n\u001b[1;32m     60\u001b[0m \u001b[39m# any open file buffers _after_ any API call. API calls must themselves call\u001b[39;00m\n\u001b[1;32m     61\u001b[0m \u001b[39m# fs.open and complete their function during the context of the opened buffer.\u001b[39;00m\n\u001b[1;32m     62\u001b[0m \u001b[39mreturn\u001b[39;00m fs, path\n",
      "\u001b[0;31mFileNotFoundError\u001b[0m: file:///allen/aics/microscopy/brian_whitney/repos/aics_bead_alignment_core/aics_bead_alignment_core/\\\\allen\\aics\\microscopy\\Data\\RnD_Sandbox\\Alignment Test 20220913\\20220913_20X_round0.czi"
     ]
    }
   ],
   "source": [
    "print(\"Shift: \" + str(get_shift(base_image_path,unaligned_new_image_path, scene)))"
   ]
  },
  {
   "cell_type": "code",
   "execution_count": null,
   "metadata": {},
   "outputs": [],
   "source": []
  }
 ],
 "metadata": {
  "kernelspec": {
   "display_name": "venv",
   "language": "python",
   "name": "python3"
  },
  "language_info": {
   "codemirror_mode": {
    "name": "ipython",
    "version": 3
   },
   "file_extension": ".py",
   "mimetype": "text/x-python",
   "name": "python",
   "nbconvert_exporter": "python",
   "pygments_lexer": "ipython3",
   "version": "3.9.14"
  },
  "orig_nbformat": 4,
  "vscode": {
   "interpreter": {
    "hash": "5ce0e0a2deadd9d9eef7517baab4b9047ba7f0a12c66ab1bef1217338eeb26dc"
   }
  }
 },
 "nbformat": 4,
 "nbformat_minor": 2
}
